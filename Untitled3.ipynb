{
 "cells": [
  {
   "cell_type": "markdown",
   "id": "84faa994-e89a-42fc-b4dd-e21c38f19e87",
   "metadata": {},
   "source": [
    "#Problem-01"
   ]
  },
  {
   "cell_type": "markdown",
   "id": "01f56baa-e5e8-495a-85d4-785efb76b1cc",
   "metadata": {},
   "source": [
    "from math import sqrt\n",
    "\n",
    "# TODO: Improves function by creating custom math.sqrt() data structure\n",
    "def rabbit_pairs(n, k):\n",
    "    \"\"\" Calculates fibonacci sequence and returns appropriate result to main() \"\"\"\n",
    "    if n < 40: \n",
    "        if n == 0 or n == 1:\n",
    "            return n\n",
    "        else: \n",
    "            return rabbit_pairs(n - 1, k) + k * rabbit_pairs(n - 2, k)\n",
    "    else:\n",
    "        return round(((1 + sqrt(5))*n - (1 - sqrt(5))*n) / (2*n*sqrt(5)))\n",
    "\n",
    "n,k=(input().split(\" \"))\n",
    "print(rabbit_pairs(int(n),int(k)))\n"
   ]
  },
  {
   "cell_type": "code",
   "execution_count": 2,
   "id": "e594daaa-f79a-4390-ad73-14e7350546f2",
   "metadata": {},
   "outputs": [],
   "source": [
    "#Problem-02"
   ]
  },
  {
   "cell_type": "code",
   "execution_count": 3,
   "id": "0ee5a260-1da6-4cab-a741-5c9f56211544",
   "metadata": {},
   "outputs": [
    {
     "name": "stdout",
     "output_type": "stream",
     "text": [
      "506\n"
     ]
    }
   ],
   "source": [
    "dna_string_file = \"C:/Users/DELL/Downloads/rosalind_hamm (1).txt\"\n",
    "distance = 0\n",
    "\n",
    "with open(dna_string_file, \"r\") as fr:\n",
    "    data = fr.readlines()\n",
    "\n",
    "    S, T = data[0].strip(), data[1].strip()\n",
    "\n",
    "    for i in range(len(S)):\n",
    "        if S[i] != T[i]:\n",
    "            distance += 1\n",
    "print(distance)"
   ]
  },
  {
   "cell_type": "markdown",
   "id": "7f9c17ac-0e26-4404-98dd-2b50de9ea6af",
   "metadata": {},
   "source": [
    "#Problem-03"
   ]
  },
  {
   "cell_type": "code",
   "execution_count": 6,
   "id": "d98fa792-1fd9-4019-ad58-5bfb01e96b61",
   "metadata": {},
   "outputs": [
    {
     "name": "stdin",
     "output_type": "stream",
     "text": [
      " 15 25 16\n"
     ]
    },
    {
     "name": "stdout",
     "output_type": "stream",
     "text": [
      "0.74351\n"
     ]
    }
   ],
   "source": [
    "def triangular_number(base):\n",
    "    # Checks for integer arguments larger than 2\n",
    "    if base < 2:\n",
    "        return 0\n",
    "    return (base * (base - 1)) / 2\n",
    "\n",
    "def cumulative_allelic_dominance_probability(k, m, n):\n",
    "    allelic_dominance_rates =  [1.0, 1.0,1.0,0.75,0.5,0]\n",
    "    inheritance_frequencies =  [triangular_number(k),m * k,n * k,triangular_number(m),m * n,triangular_number(n)]\n",
    "    dot_sum=0\n",
    "    for rate, freq in zip(allelic_dominance_rates, inheritance_frequencies):\n",
    "        dot_sum += rate*freq\n",
    "    freq_sum = sum(inheritance_frequencies)\n",
    "    # Returns probability of choosing allelic child with dominant genotype from all possible parents\n",
    "    return dot_sum / freq_sum\n",
    "\n",
    "\n",
    "k,m,n=input().split(\" \")\n",
    "print(str(round(cumulative_allelic_dominance_probability(int(k), int(m), int(n)), 5)))\n",
    "\n"
   ]
  },
  {
   "cell_type": "code",
   "execution_count": null,
   "id": "028f1d21-a90b-409b-8295-49147000ba3d",
   "metadata": {},
   "outputs": [],
   "source": []
  }
 ],
 "metadata": {
  "kernelspec": {
   "display_name": "Python 3 (ipykernel)",
   "language": "python",
   "name": "python3"
  },
  "language_info": {
   "codemirror_mode": {
    "name": "ipython",
    "version": 3
   },
   "file_extension": ".py",
   "mimetype": "text/x-python",
   "name": "python",
   "nbconvert_exporter": "python",
   "pygments_lexer": "ipython3",
   "version": "3.12.1"
  }
 },
 "nbformat": 4,
 "nbformat_minor": 5
}
