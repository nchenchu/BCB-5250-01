{
 "cells": [
  {
   "cell_type": "markdown",
   "id": "0f6112be-b82d-4162-808f-f4b271e3395c",
   "metadata": {},
   "source": [
    "##Problem 1##"
   ]
  },
  {
   "cell_type": "code",
   "execution_count": 1,
   "id": "08cfb9e6-827d-4d6e-886d-cf7320b37ff0",
   "metadata": {},
   "outputs": [
    {
     "name": "stdout",
     "output_type": "stream",
     "text": [
      "Hello World\n"
     ]
    }
   ],
   "source": [
    "print (\"Hello World\")"
   ]
  },
  {
   "cell_type": "code",
   "execution_count": 2,
   "id": "33d9c032-4da3-40d7-88e5-604976f80e10",
   "metadata": {},
   "outputs": [
    {
     "name": "stdout",
     "output_type": "stream",
     "text": [
      "The Zen of Python, by Tim Peters\n",
      "\n",
      "Beautiful is better than ugly.\n",
      "Explicit is better than implicit.\n",
      "Simple is better than complex.\n",
      "Complex is better than complicated.\n",
      "Flat is better than nested.\n",
      "Sparse is better than dense.\n",
      "Readability counts.\n",
      "Special cases aren't special enough to break the rules.\n",
      "Although practicality beats purity.\n",
      "Errors should never pass silently.\n",
      "Unless explicitly silenced.\n",
      "In the face of ambiguity, refuse the temptation to guess.\n",
      "There should be one-- and preferably only one --obvious way to do it.\n",
      "Although that way may not be obvious at first unless you're Dutch.\n",
      "Now is better than never.\n",
      "Although never is often better than *right* now.\n",
      "If the implementation is hard to explain, it's a bad idea.\n",
      "If the implementation is easy to explain, it may be a good idea.\n",
      "Namespaces are one honking great idea -- let's do more of those!\n"
     ]
    }
   ],
   "source": [
    "import this"
   ]
  },
  {
   "cell_type": "markdown",
   "id": "2ab25bbd-cdbe-40aa-99e0-3b17dea23fdf",
   "metadata": {},
   "source": [
    "##Problem 2##"
   ]
  },
  {
   "cell_type": "code",
   "execution_count": 3,
   "id": "aaed3a37-d0f9-4064-bcda-e0c64233487b",
   "metadata": {},
   "outputs": [
    {
     "name": "stdout",
     "output_type": "stream",
     "text": [
      "831744\n",
      "857476\n",
      "1689220\n"
     ]
    }
   ],
   "source": [
    "a = 912\n",
    "squarea = a ** 2 #The general formula to calcualte the square of any number\n",
    "print(squarea)\n",
    "b=926\n",
    "squareb = b**2\n",
    "print(squareb)\n",
    "squarec = squarea+squareb #The hypotenuse of the right triangle whose legs have lengths a and b\n",
    "print(squarec)"
   ]
  },
  {
   "cell_type": "markdown",
   "id": "5d2f6f49-2824-4250-887e-8fd6d830701a",
   "metadata": {},
   "source": [
    "##reference: #reference:https://ioflood.com/blog/square-in-python/#:~:text=Python%20provides%20several%20ways%20to,follow%20it%20with%20**2%20.##"
   ]
  },
  {
   "cell_type": "markdown",
   "id": "c23adb7f-1ffa-4652-922a-f25dff707892",
   "metadata": {},
   "source": [
    "##Problem 3##"
   ]
  },
  {
   "cell_type": "code",
   "execution_count": 3,
   "id": "599005d0-fb7f-431b-90a0-e97523fb460b",
   "metadata": {},
   "outputs": [
    {
     "name": "stdout",
     "output_type": "stream",
     "text": [
      "Grammostola porzana\n"
     ]
    }
   ],
   "source": [
    "S = 'f77VIR3HmYUJ7IMPkZgv9rpFbL0FwzdmFqbPfKgi3UBvUlKEoqCKGDwmuidg3SfzfQQv9erwY7Nd91tGrammostolaElq64IVS5iWYpXZlsFAeCaWks1porzanaa9bRLQvufsmJ8J6Ep9EzOzSGlJBIqI4bNOJL.'\n",
    "a = 79\n",
    "b = 89\n",
    "c = 116\n",
    "d = 122\n",
    "\n",
    "print((S[a:b+1]) + \" \" + (S[c:d+1])) #prints the substring using the slicing "
   ]
  },
  {
   "cell_type": "markdown",
   "id": "1f6ed796-d61e-46f3-9d3a-6a5f760e32cd",
   "metadata": {},
   "source": [
    "##Problem 4##"
   ]
  },
  {
   "cell_type": "code",
   "execution_count": 4,
   "id": "39a06895-868e-4d3d-884d-4f38486fc63d",
   "metadata": {},
   "outputs": [
    {
     "name": "stdin",
     "output_type": "stream",
     "text": [
      " 4924 9630\n"
     ]
    },
    {
     "name": "stdout",
     "output_type": "stream",
     "text": [
      "17122781\n"
     ]
    }
   ],
   "source": [
    "min_no,max_no=input().split() #split used to split the numbers between the given range and I have used min and max to input the values\n",
    "min_no=int(min_no) \n",
    "max_no=int(max_no)\n",
    "odd_sum=0\n",
    "if min_no < max_no and min_no>0 and max_no>0:\n",
    "    for integers in range(min_no,max_no+1):\n",
    "        if integers%2 != 0: #ensuring that the odd numbers are only taken for consideration.\n",
    "            odd_sum=odd_sum+integers #adding all the numbers which satisfy the above line of code\n",
    "else:\n",
    "    print(\"Entered Values must be positive integers and first number should be smaller than second number\")\n",
    "print(odd_sum)"
   ]
  },
  {
   "cell_type": "markdown",
   "id": "b6dfbb5b-8f41-46ae-b88a-a5c376339207",
   "metadata": {},
   "source": [
    "##Problem 5##"
   ]
  },
  {
   "cell_type": "code",
   "execution_count": 5,
   "id": "899e6f99-123b-4536-81d8-56f83e116553",
   "metadata": {},
   "outputs": [
    {
     "name": "stdout",
     "output_type": "stream",
     "text": [
      "Some things in life are bad, they can really make you mad\n",
      "\n",
      "Other things just make you swear and curse\n",
      "\n",
      "When you're chewing on life's gristle, don't grumble give a whistle\n",
      "\n",
      "This will help things turn out for the best\n",
      "\n",
      "Always look on the bright side of life\n",
      "\n",
      "Always look on the right side of life\n",
      "\n",
      "If life seems jolly rotten, there's something you've forgotten\n",
      "\n",
      "And that's to laugh and smile and dance and sing\n",
      "\n",
      "When you're feeling in the dumps, don't be silly, chumps\n",
      "\n",
      "Just purse your lips and whistle, that's the thing\n",
      "\n",
      "So, always look on the bright side of death\n",
      "\n",
      "Just before you draw your terminal breath\n",
      "\n",
      "Life's a counterfeit and when you look at it\n",
      "\n",
      "Life's a laugh and death's the joke, it's true\n",
      "\n",
      "You see, it's all a show, keep them laughing as you go\n",
      "\n",
      "Just remember the last laugh is on you\n",
      "\n",
      "Always look on the bright side of life\n",
      "\n",
      "And always look on the right side of life\n",
      "\n",
      "Always look on the bright side of life\n",
      "\n",
      "And always look on the right side of life\n",
      "\n"
     ]
    }
   ],
   "source": [
    "lines = 1\n",
    "text_file = open(\"C:/Users/DELL/Downloads/rosalind_ini5.txt\")\n",
    "for each_line in text_file.readlines(): #used to read every line of the file\n",
    "    if lines % 2 == 0: #as we need the even numbered lines we used this line of code\n",
    "        print(each_line)\n",
    "    lines += 1 "
   ]
  },
  {
   "cell_type": "markdown",
   "id": "cfa69a4e-5178-41f7-b8aa-e924d9386539",
   "metadata": {},
   "source": [
    "##Problem 6##"
   ]
  },
  {
   "cell_type": "code",
   "execution_count": 6,
   "id": "02b5dbbc-f777-467f-97f1-2df0aa72b69a",
   "metadata": {},
   "outputs": [
    {
     "name": "stdin",
     "output_type": "stream",
     "text": [
      " When I find myself in times of trouble Mother Mary comes to me Speaking words of wisdom let it be And in my hour of darkness she is standing right in front of me Speaking words of wisdom let it be Let it be let it be let it be let it be Whisper words of wisdom let it be And when the broken hearted people living in the world agree There will be an answer let it be For though they may be parted there is still a chance that they will see There will be an answer let it be Let it be let it be let it be let it be There will be an answer let it be Let it be let it be let it be let it be Whisper words of wisdom let it be Let it be let it be let it be let it be Whisper words of wisdom let it be And when the night is cloudy there is still a light that shines on me Shine until tomorrow let it be I wake up to the sound of music Mother Mary comes to me Speaking words of wisdom let it be Let it be let it be let it be yeah let it be There will be an answer let it be Let it be let it be let it be yeah let it be Whisper words of wisdom let it be\n"
     ]
    },
    {
     "name": "stdout",
     "output_type": "stream",
     "text": [
      "When 1\n",
      "I 2\n",
      "find 1\n",
      "myself 1\n",
      "in 4\n",
      "times 1\n",
      "of 11\n",
      "trouble 1\n",
      "Mother 2\n",
      "Mary 2\n",
      "comes 2\n",
      "to 3\n",
      "me 4\n",
      "Speaking 3\n",
      "words 7\n",
      "wisdom 7\n",
      "let 30\n",
      "it 36\n",
      "be 41\n",
      "And 3\n",
      "my 1\n",
      "hour 1\n",
      "darkness 1\n",
      "she 1\n",
      "is 4\n",
      "standing 1\n",
      "right 1\n",
      "front 1\n",
      "Let 6\n",
      "Whisper 4\n",
      "when 2\n",
      "the 4\n",
      "broken 1\n",
      "hearted 1\n",
      "people 1\n",
      "living 1\n",
      "world 1\n",
      "agree 1\n",
      "There 4\n",
      "will 5\n",
      "an 4\n",
      "answer 4\n",
      "For 1\n",
      "though 1\n",
      "they 2\n",
      "may 1\n",
      "parted 1\n",
      "there 2\n",
      "still 2\n",
      "a 2\n",
      "chance 1\n",
      "that 2\n",
      "see 1\n",
      "night 1\n",
      "cloudy 1\n",
      "light 1\n",
      "shines 1\n",
      "on 1\n",
      "Shine 1\n",
      "until 1\n",
      "tomorrow 1\n",
      "wake 1\n",
      "up 1\n",
      "sound 1\n",
      "music 1\n",
      "yeah 2\n"
     ]
    }
   ],
   "source": [
    "s=input()\n",
    "str_list=s.split(\" \") # To split the every word of the code \n",
    "word_count={}\n",
    "for word in str_list:\n",
    "    if word in word_count:\n",
    "        word_count[word] +=1 #to count the same words \n",
    "    else:\n",
    "        word_count[word] =1 #if the word is not repeated it is assigned with 1 \n",
    "for word in word_count:\n",
    "    print(word ,word_count[word]) #printing the count and the word"
   ]
  },
  {
   "cell_type": "code",
   "execution_count": null,
   "id": "37b090f3-6c1c-401b-b4b2-3fb9deb1bc9f",
   "metadata": {},
   "outputs": [],
   "source": []
  }
 ],
 "metadata": {
  "kernelspec": {
   "display_name": "Python 3 (ipykernel)",
   "language": "python",
   "name": "python3"
  },
  "language_info": {
   "codemirror_mode": {
    "name": "ipython",
    "version": 3
   },
   "file_extension": ".py",
   "mimetype": "text/x-python",
   "name": "python",
   "nbconvert_exporter": "python",
   "pygments_lexer": "ipython3",
   "version": "3.12.1"
  }
 },
 "nbformat": 4,
 "nbformat_minor": 5
}
